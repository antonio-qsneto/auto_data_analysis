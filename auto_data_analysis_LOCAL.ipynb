{
 "cells": [
  {
   "cell_type": "code",
   "execution_count": null,
   "id": "b1e5dab2",
   "metadata": {},
   "outputs": [
    {
     "name": "stderr",
     "output_type": "stream",
     "text": [
      "/home/antonio/Documents/portifolio/venv/lib/python3.11/site-packages/tqdm/auto.py:21: TqdmWarning: IProgress not found. Please update jupyter and ipywidgets. See https://ipywidgets.readthedocs.io/en/stable/user_install.html\n",
      "  from .autonotebook import tqdm as notebook_tqdm\n"
     ]
    }
   ],
   "source": [
    "from transformers import AutoTokenizer, AutoModelForCausalLM\n",
    "from ydata_profiling import ProfileReport\n",
    "import re\n",
    "import contextlib\n",
    "import io\n",
    "import matplotlib.pyplot as plt\n",
    "import pandas as pd\n",
    "import json"
   ]
  },
  {
   "cell_type": "code",
   "execution_count": null,
   "id": "0203a041",
   "metadata": {},
   "outputs": [
    {
     "data": {
      "text/html": [
       "\n",
       "            <div>\n",
       "                <ins><a href=\"https://ydata.ai/register\">Upgrade to ydata-sdk</a></ins>\n",
       "                <p>\n",
       "                    Improve your data and profiling with ydata-sdk, featuring data quality scoring, redundancy detection, outlier identification, text validation, and synthetic data generation.\n",
       "                </p>\n",
       "            </div>\n",
       "            "
      ],
      "text/plain": [
       "<IPython.core.display.HTML object>"
      ]
     },
     "metadata": {},
     "output_type": "display_data"
    },
    {
     "name": "stderr",
     "output_type": "stream",
     "text": [
      "100%|██████████| 4/4 [00:00<00:00, 12.74it/s]0<00:00,  8.00it/s, Describe variable: Valor]    \n",
      "Summarize dataset: 100%|██████████| 14/14 [00:01<00:00, 12.69it/s, Completed]                \n",
      "Render JSON: 100%|██████████| 1/1 [00:00<00:00, 55.86it/s]\n"
     ]
    }
   ],
   "source": [
    "\n",
    "df = pd.read_csv(\"gastos_fake.csv\")\n",
    "profile = ProfileReport(df, title=\"Relatório Financeiro\", explorative=True)\n",
    "profile_json = profile.to_json()\n",
    "json_data = json.loads(profile_json)"
   ]
  },
  {
   "cell_type": "code",
   "execution_count": 3,
   "id": "058cfdd8",
   "metadata": {},
   "outputs": [],
   "source": [
    "model_id = \"deepseek-ai/deepseek-coder-1.3b-instruct\"\n",
    "tokenizer = AutoTokenizer.from_pretrained(model_id)\n",
    "model = AutoModelForCausalLM.from_pretrained(model_id)"
   ]
  },
  {
   "cell_type": "code",
   "execution_count": 4,
   "id": "3ef0d227",
   "metadata": {},
   "outputs": [],
   "source": [
    "def gerar_codigo_local(prompt: str, max_new_tokens=2000) -> str:\n",
    "    input_ids = tokenizer(prompt, return_tensors=\"pt\").input_ids.to(model.device)\n",
    "    output_ids = model.generate(\n",
    "        input_ids,\n",
    "        max_new_tokens=max_new_tokens,\n",
    "        pad_token_id=tokenizer.eos_token_id,\n",
    "        do_sample=True,\n",
    "        temperature=0.7\n",
    "    )\n",
    "    resposta = tokenizer.decode(output_ids[0][input_ids.shape[-1]:], skip_special_tokens=True)\n",
    "    return resposta"
   ]
  },
  {
   "cell_type": "code",
   "execution_count": null,
   "id": "ef4e31d9",
   "metadata": {},
   "outputs": [],
   "source": [
    "def executar_codigo_ia(codigo: str, df: pd.DataFrame):\n",
    "    stdout = io.StringIO()\n",
    "    try:\n",
    "        with contextlib.redirect_stdout(stdout):\n",
    "            exec(codigo, {\"pd\": pd, \"plt\": plt, \"df\": df})\n",
    "    except Exception as e:\n",
    "        print(\"❌ Erro ao executar:\", e)\n",
    "    print(stdout.getvalue())"
   ]
  },
  {
   "cell_type": "code",
   "execution_count": 6,
   "id": "d65d8af5",
   "metadata": {},
   "outputs": [],
   "source": [
    "prompt = \"\"\"\n",
    "You are a Python coding assistant.\n",
    "\n",
    "You are given a pandas DataFrame called `df` already loaded in the environment. Do NOT create or load any new DataFrames.\n",
    "\n",
    "Write Python code that:\n",
    "1. Groups expenses by category and sums the values\n",
    "2. Plots a pie chart and a bar chart using matplotlib\n",
    "3. Saves the figures using plt.savefig(\"...\") instead of showing them\n",
    "4. Includes brief comments explaining each part\n",
    "\n",
    "Return only the valid Python code (no explanations, no markdown).\n",
    "\"\"\"\n"
   ]
  },
  {
   "cell_type": "code",
   "execution_count": null,
   "id": "180be448",
   "metadata": {},
   "outputs": [],
   "source": [
    "def extrair_codigo_puro(resposta_llm: str) -> str:\n",
    "    if \"```python\" in resposta_llm:\n",
    "        codigo = re.findall(r\"```python(.*?)```\", resposta_llm, re.DOTALL)\n",
    "        return codigo[0].strip() if codigo else resposta_llm.strip()\n"
   ]
  },
  {
   "cell_type": "code",
   "execution_count": null,
   "id": "6e68a30f",
   "metadata": {},
   "outputs": [
    {
     "name": "stdout",
     "output_type": "stream",
     "text": [
      "🔧 Código gerado pela IA:\n",
      " \n",
      "```python\n",
      "import matplotlib.pyplot as plt\n",
      "\n",
      "# Step 1: Group expenses by category and sums the values\n",
      "expenses_by_category = df.groupby('Category')['Expense'].sum()\n",
      "\n",
      "# Step 2: Plot a pie chart\n",
      "fig1, ax1 = plt.subplots()\n",
      "expenses_by_category.plot(kind='pie', ax=ax1, autopct='%1.1f%%')\n",
      "ax1.set_title('Expenses by Category')\n",
      "plt.savefig(\"pie_chart.png\")\n",
      "\n",
      "# Step 3: Plot a bar chart\n",
      "fig2, ax2 = plt.subplots()\n",
      "expenses_by_category.plot(kind='bar', ax=ax2)\n",
      "ax2.set_title('Expenses by Category')\n",
      "plt.savefig(\"bar_chart.png\")\n",
      "```\n",
      "\n",
      "Note: Assumptions made:\n",
      "1. You have a column 'Category' in your DataFrame.\n",
      "2. You have a column 'Expense' in your DataFrame.\n",
      "3. Your DataFrame is named 'df'.\n",
      "4. It is assumed that 'Expenses' is a numerical value. If it's not the case, you should use the correct expression for summing values.\n",
      "5. Pie chart and Bar chart are plotted for visualization, based on pandas' plot function, which is used to create plots of data.\n",
      "6. The pie and bar charts are saved in the current directory as 'pie_chart.png' and 'bar_chart.png' respectively. The exact file names can be changed as per your preferences.\n",
      "7. Matplotlib is used for plotting, if you want to use seaborn or any other plotting library, you can replace 'plot' with the respective function call.\n",
      "8. The code does not include any error handling, you may want to add some try-except blocks to handle exceptions.\n",
      "9. All the imports are necessary for the code to run.\n",
      "10. The output is a Python function that can be called directly to generate the plots.\n",
      "11. The current function will overwrite any existing 'pie_chart.png' and 'bar_chart.png' in the current directory. You may want to add a check to avoid overwriting.\n",
      "12. If you only need one pie chart or bar chart, you can modify the code slightly to save the image as a png file directly.\n",
      "13. The current function will only return the code to be used, you will have to call the function to actually generate the plots.\n",
      "14. The current function will generate two plots, one for the pie chart and one for the bar chart.\n",
      "15. The current function does not handle multiple categories in the bar chart. You may want to modify it to handle multiple categories.\n",
      "16. The current function does not handle the case where there are missing data points. You may want to modify it to handle missing data points.\n",
      "17. The pie chart is not labelled on the x-axis and y-axis. You may want to modify it to label the x-axis and y-axis.\n",
      "18. The pie and bar chart are not stacked. You may want to modify it to stack the charts.\n",
      "19. The pie chart and bar chart are not rotated. You may want to modify it to rotate the charts.\n",
      "20. The pie chart and bar chart are not displayed in a grid. You may want to modify it to display the charts in a grid.\n",
      "21. The current function does not handle the case where the 'Category' column has a mix of numeric and non-numeric data. You may want to modify it to handle mixed data.\n",
      "22. The current function does not handle the case where the 'Expense' column has negative values. You may want to modify it to ignore these negative values.\n",
      "23. The current function does not handle the case where the 'Category' column has duplicate values. You may want to modify it to handle duplicate values.\n",
      "24. The current function does not handle the case where the 'Expense' column has null values. You may want to modify it to handle null values.\n",
      "25. The current function does not handle the case where the 'Category' column has string values. You may want to modify it to handle string values.\n",
      "26. The current function does not handle the case where the 'Expense' column has float values. You may want to modify it to handle float values.\n",
      "27. The current function does not handle the case where the 'Category' column has large number values. You may want to modify it to handle large number values.\n",
      "28. The current function does not handle the case where the 'Expense' column has a large number. You may want to modify it to handle large numbers.\n",
      "29. The current function does not handle the case where the 'Category' column has a very large number of categories. You may want to modify it to handle large number of categories.\n",
      "30. The current function does not handle the case where the 'Expense' column has a very large number. You may want to modify it to handle large numbers.\n",
      "31. The current function does not handle the case where the 'Category' column has a very large number of non-numeric values. You may want to modify it to handle large number of non-numeric values.\n",
      "32. The current function does not handle the case where the 'Expense' column has a very large number of non-numeric values. You may want to modify it to handle large number of non-numeric values.\n",
      "33. The current function does not handle the case where the 'Category' column has a very large number of duplicate values. You may want to modify it to handle large number of duplicate values.\n",
      "34. The current function does not handle the case where the 'Expense' column has a very large number of duplicate values. You may want to modify it to handle large number of duplicate values.\n",
      "35. The current function does not handle the case where the 'Category' column has a very large number of missing values. You may want to modify it to handle large number of missing values.\n",
      "36. The current function does not handle the case where the 'Expense' column has a very large number of missing values. You may want to modify it to handle large number of missing values.\n",
      "37. The current function does not handle the case where the 'Category' column has a very large number of null values. You may want to modify it to handle large number of null values.\n",
      "38. The current function does not handle the case where the 'Expense' column has a very large number of null values. You may want to modify it to handle large number of null values.\n",
      "39. The current function does not handle the case where the 'Category' column has a very large number of string values. You may want to modify it to handle large number of string values.\n",
      "40. The current function does not handle the case where the 'Expense' column has a very large number of string values. You may want to modify it to handle large number of string values.\n",
      "41. The current function does not handle the case where the 'Category' column has a very large number of float values. You may want to modify it to handle large number of float values.\n",
      "42. The current function does not handle the case where the 'Expense' column has a very large number of float values. You may want to modify it to handle large number of float values.\n",
      "43. The current function does not handle the case where the 'Category' column has a very large number of very large number values. You may want to modify it to handle large number of very large values.\n",
      "44. The current function does not handle the case where the 'Expense' column has a very large number of very large number values. You may want to modify it to handle large number of very large values.\n",
      "45. The current function does not handle the case where the 'Category' column has a very large number of very large number of non-numeric values. You may want to modify it to handle large number of very large non-numeric values.\n",
      "46. The current function does not handle the case where the 'Expense' column has a very large number of very large number of non-numeric values. You may want to modify it to handle large number of very large non-numeric values.\n",
      "47. The current function does not handle the case where the 'Category' column has a very large number of very large numbers of duplicate values. You may want to modify it to handle large number of very large duplicate values.\n",
      "48. The current function does not handle the case where the 'Expense' column has a very large number of very large numbers of duplicate values. You may want to modify it to handle large number of very large duplicate values.\n",
      "49. The current function does not handle the case where the 'Category' column has a very large number of very large numbers of missing values. You may want to modify it to handle large number of very large missing values.\n",
      "50. The current function does not handle the case where the 'Expense'\n",
      "❌ Erro ao executar: unterminated string literal (detected at line 25) (<string>, line 25)\n",
      "\n"
     ]
    }
   ],
   "source": [
    "codigo_gerado = gerar_codigo_local(prompt)\n",
    "codigo_puro = extrair_codigo_puro(codigo_gerado)\n",
    "print(\"Code generated by the DeepSeek model:\\n\", codigo_gerado)\n",
    "executar_codigo_ia(codigo_gerado, df)"
   ]
  },
  {
   "cell_type": "code",
   "execution_count": null,
   "id": "6639d33b",
   "metadata": {},
   "outputs": [],
   "source": []
  }
 ],
 "metadata": {
  "kernelspec": {
   "display_name": "venv",
   "language": "python",
   "name": "python3"
  },
  "language_info": {
   "codemirror_mode": {
    "name": "ipython",
    "version": 3
   },
   "file_extension": ".py",
   "mimetype": "text/x-python",
   "name": "python",
   "nbconvert_exporter": "python",
   "pygments_lexer": "ipython3",
   "version": "3.11.8"
  }
 },
 "nbformat": 4,
 "nbformat_minor": 5
}
