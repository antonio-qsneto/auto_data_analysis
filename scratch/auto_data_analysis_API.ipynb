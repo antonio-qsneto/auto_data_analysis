{
 "cells": [
  {
   "cell_type": "code",
   "execution_count": null,
   "id": "b1e5dab2",
   "metadata": {},
   "outputs": [],
   "source": [
    "from ydata_profiling import ProfileReport\n",
    "import requests\n",
    "import pandas as pd\n",
    "import re"
   ]
  },
  {
   "cell_type": "code",
   "execution_count": null,
   "id": "ff6dfb89",
   "metadata": {},
   "outputs": [],
   "source": [
    "df = pd.read_csv(\"gastos_fake.csv\")\n",
    "profile = ProfileReport(df, title=\"Relatório Financeiro\", explorative=True)\n",
    "profile_json = profile.to_json()"
   ]
  },
  {
   "cell_type": "code",
   "execution_count": null,
   "id": "c3097bd7",
   "metadata": {},
   "outputs": [],
   "source": [
    "def gerar_prompt_dinamico(df: pd.DataFrame, profile_json: dict = None) -> str:\n",
    "    shape_info = f\"The table has {df.shape[0]} rows and {df.shape[1]} columns.\"\n",
    "    dtypes_info = df.dtypes.astype(str).to_dict()\n",
    "    columns_info = \"\\n\".join(f\"- {col}: {dtype}\" for col, dtype in dtypes_info.items())\n",
    "    head_preview = df.head(3).to_markdown(index=False)\n",
    "\n",
    "    summary = \"\"\n",
    "    if profile_json:\n",
    "        try:\n",
    "            variables = profile_json.get(\"variables\", {})\n",
    "            resumo = []\n",
    "            for col, meta in variables.items():\n",
    "                tipo = meta.get(\"type\", \"unknown\")\n",
    "                missing = meta.get(\"p_missing\", 0)\n",
    "                resumo.append(f\"- {col}: type={tipo}, missing={round(missing*100, 1)}%\")\n",
    "            summary = \"\\n\\nProfileReport summary:\\n\" + \"\\n\".join(resumo)\n",
    "        except Exception:\n",
    "            pass\n",
    "\n",
    "    prompt = f\"\"\"\n",
    "            You are a data scientist assistant.\n",
    "\n",
    "            A user uploaded a table as a pandas DataFrame named `df`.\n",
    "\n",
    "            {shape_info}\n",
    "            Columns and types:\n",
    "            {columns_info}\n",
    "\n",
    "            Preview of first rows:\n",
    "            {head_preview}\n",
    "            {summary}\n",
    "\n",
    "            You are a data scientist assistant. A table was uploaded and is available as a pandas DataFrame named `df`.\n",
    "\n",
    "            Your task:\n",
    "            1. Analyze the structure and content of `df`.\n",
    "            2. If appropriate, generate Python code to create visualizations:\n",
    "            - Time Series Plot (if date/time column exists)\n",
    "            - Box Plot per category (if categorical + numeric columns)\n",
    "            - Correlation Heatmap (if multiple numeric columns)\n",
    "            - Top N Expenses (highest rows by value), all categories.\n",
    "            - Distribution Plot (histogram or KDE for numeric columns)\n",
    "            - Anomaly Detection (values far from mean/std)\n",
    "            - Summary Table (sum, mean, max, count grouped by category)\n",
    "            - Cumulative Spending Curve (if date + amount/value column)\n",
    "            - Pie Chart of spending by category\n",
    "\n",
    "            3. Use `pandas`, `matplotlib`, and `seaborn` (and optionally `numpy`, `datetime`).\n",
    "            4. Save all plots using `plt.savefig(...)` (do NOT use `plt.show()`).\n",
    "            5. Assume `df` is already loaded. Do NOT load data again.\n",
    "            6. Return **only valid Python code**. No explanations or markdown.\n",
    "\n",
    "            \"\"\"\n",
    "\n",
    "    return prompt.strip()\n"
   ]
  },
  {
   "cell_type": "code",
   "execution_count": null,
   "id": "99bf2c95",
   "metadata": {},
   "outputs": [],
   "source": [
    "prompt_final = gerar_prompt_dinamico(df)\n",
    "prompt_final[:1000]"
   ]
  },
  {
   "cell_type": "code",
   "execution_count": null,
   "id": "99bc23b2",
   "metadata": {},
   "outputs": [],
   "source": [
    "def chamar_openrouter(prompt: str, api_key: str) -> str:\n",
    "    url = \"https://openrouter.ai/api/v1/chat/completions\"\n",
    "\n",
    "    headers = {\n",
    "        \"Content-Type\": \"application/json\",\n",
    "        \"Authorization\": f\"Bearer {api_key}\"\n",
    "    }\n",
    "\n",
    "    payload = {\n",
    "    \"model\": \"deepseek/deepseek-chat-v3-0324:free\",\n",
    "    \"messages\": [\n",
    "        {\"role\": \"system\", \"content\": \"You are a data analyst who generates Python code for visualization.\"},\n",
    "        {\"role\": \"user\", \"content\": prompt}\n",
    "    ],\n",
    "    \"temperature\": 0.3,\n",
    "    \"max_tokens\": 1000\n",
    "    }\n",
    "\n",
    "\n",
    "    response = requests.post(url, json=payload, headers=headers)\n",
    "\n",
    "    if response.status_code == 200:\n",
    "        return response.json()[\"choices\"][0][\"message\"][\"content\"]\n",
    "    else:\n",
    "        print(\"❌ Erro:\", response.status_code)\n",
    "        print(response.text)\n",
    "        return \"\"\n"
   ]
  },
  {
   "cell_type": "code",
   "execution_count": null,
   "id": "fe407a5e",
   "metadata": {},
   "outputs": [],
   "source": [
    "api_key = \"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\"\n",
    "\n",
    "codigo_gerado = chamar_openrouter(prompt_final, api_key)\n",
    "\n",
    "print(\"🔧 Code generated:\")\n",
    "print(codigo_gerado)"
   ]
  },
  {
   "cell_type": "code",
   "execution_count": null,
   "id": "3bad6e44",
   "metadata": {},
   "outputs": [],
   "source": [
    "def executar_codigo_ia(codigo: str, df: pd.DataFrame):\n",
    "    import contextlib\n",
    "    import io\n",
    "    import matplotlib.pyplot as plt\n",
    "\n",
    "    stdout = io.StringIO()\n",
    "    local_vars = {}\n",
    "\n",
    "    try:\n",
    "        with contextlib.redirect_stdout(stdout):\n",
    "            exec(codigo, {\"pd\": pd, \"plt\": plt, \"df\": df}, local_vars)\n",
    "    except Exception as e:\n",
    "        print(\"❌ Erro ao executar o código:\", e)\n",
    "\n",
    "    print(stdout.getvalue())\n"
   ]
  },
  {
   "cell_type": "code",
   "execution_count": null,
   "id": "e2c34c10",
   "metadata": {},
   "outputs": [],
   "source": [
    "def extrair_codigo_puro(resposta_llm: str) -> str:\n",
    "    if \"```python\" in resposta_llm:\n",
    "        codigo = re.findall(r\"```python(.*?)```\", resposta_llm, re.DOTALL)\n",
    "        return codigo[0].strip() if codigo else resposta_llm.strip()\n",
    "    else:\n",
    "        # Remove linhas iniciais não-python como \"🔧 Código gerado:\" ou cabeçalhos\n",
    "        linhas = resposta_llm.strip().splitlines()\n",
    "        linhas_filtradas = [linha for linha in linhas if not linha.strip().startswith(\"🔧\")]\n",
    "        return \"\\n\".join(linhas_filtradas).strip()\n"
   ]
  },
  {
   "cell_type": "code",
   "execution_count": null,
   "id": "9f154251",
   "metadata": {},
   "outputs": [],
   "source": [
    "codigo_puro = extrair_codigo_puro(codigo_gerado)\n",
    "executar_codigo_ia(codigo_puro, df)"
   ]
  },
  {
   "cell_type": "code",
   "execution_count": null,
   "id": "3ef0d227",
   "metadata": {},
   "outputs": [],
   "source": []
  }
 ],
 "metadata": {
  "kernelspec": {
   "display_name": "venv",
   "language": "python",
   "name": "python3"
  },
  "language_info": {
   "codemirror_mode": {
    "name": "ipython",
    "version": 3
   },
   "file_extension": ".py",
   "mimetype": "text/x-python",
   "name": "python",
   "nbconvert_exporter": "python",
   "pygments_lexer": "ipython3",
   "version": "3.11.8"
  }
 },
 "nbformat": 4,
 "nbformat_minor": 5
}
